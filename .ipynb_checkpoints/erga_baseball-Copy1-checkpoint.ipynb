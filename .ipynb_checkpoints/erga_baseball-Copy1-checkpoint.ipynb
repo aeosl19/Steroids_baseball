{
 "cells": [
  {
   "cell_type": "markdown",
   "metadata": {},
   "source": [
    "# Steroids in baseball:\n",
    "\n",
    "Since the 90s has - as any other sport - has had its issues with steroids. If we disregard the ethics of taking a unnatural perfomance enhancer and only consider the possible danger both to the players health and risks of beeing caught - why would a player take a banned substance?\n",
    "\n",
    "Obviously a player would take a banned substance in the hope of prolonging a career or improving enough to make it to - and stay in the MLB. Therefore the question of taking a banned substance boils down to a players worth. So how can we do that? There are several factor contributing to a players worth but excluding pitchers hits are probably by far the most important metric. So, to begin answering the question of why steroids I've choosen to look at the following questions:\n",
    "\n",
    "- What is the mean income for an mlb player from 1990 until today compared to players caught taking steroids \n",
    "- Except pitchers, hits are the biggest factor in determening a players salary. But what is the relationship between salaries and hits? Is there a strong link?."
   ]
  },
  {
   "cell_type": "code",
   "execution_count": null,
   "metadata": {
    "collapsed": false
   },
   "outputs": [],
   "source": [
    "\n",
    "import matplotlib.pyplot as plt\n",
    "import numpy as np\n",
    "import pandas as pd\n",
    "\n",
    "\n",
    "#Import the csv files needed and return the DataFrame\n",
    "def get_file (filename):\n",
    "    the_file = pd.read_csv(filename)\n",
    "    return the_file\n",
    "\n",
    "master_df = get_file('Master.csv')\n",
    "salaries_df = get_file('Salaries.csv')\n",
    "batting_df = get_file('Batting.csv')\n",
    "fielding_df = get_file('Fielding.csv')\n",
    "\n",
    "\n",
    "\n",
    "# clean the DataFrames - only the columns we want\n",
    "master_df = master_df[['playerID','nameFirst','nameLast','retroID','bbrefID']]\n",
    "salaries_df = salaries_df[['yearID', 'playerID', 'salary']]\n",
    "fielding_df = fielding_df[['playerID', 'yearID', 'POS']]\n",
    "\n",
    "#### add column indicating if player has been convicted of steroid use\n",
    "master_df.insert(5, 'Steroid', False)\n",
    "\n"
   ]
  },
  {
   "cell_type": "code",
   "execution_count": null,
   "metadata": {
    "collapsed": false
   },
   "outputs": [],
   "source": [
    "fielding_df"
   ]
  },
  {
   "cell_type": "code",
   "execution_count": null,
   "metadata": {
    "collapsed": false
   },
   "outputs": [],
   "source": [
    "#### merge salary and master DF - if column is already in master_df - it has been already done. \n",
    "if 'salary' not in master_df.columns:\n",
    "    master_df = master_df.merge(salaries_df, on = 'playerID', how = 'inner')\n",
    "master_df.head()"
   ]
  },
  {
   "cell_type": "code",
   "execution_count": null,
   "metadata": {
    "collapsed": false
   },
   "outputs": [],
   "source": [
    "#### focus on relevant years 1990 - 2014\n",
    "def clean_and_remove (data):\n",
    "    years = range(1990, 2015)\n",
    "    return data.loc[(data['yearID'].isin(years))]\n",
    "\n",
    "master_df = clean_and_remove(master_df)\n",
    "\n",
    "#### check that master_df looks good so far\n",
    "master_df.head()\n"
   ]
  },
  {
   "cell_type": "code",
   "execution_count": null,
   "metadata": {
    "collapsed": false
   },
   "outputs": [],
   "source": [
    "#Import the player convicted of using steroids - source wikipedia \n",
    "##https://en.wikipedia.org/wiki/List_of_Major_League_Baseball_players_suspended_for_performance-enhancing_drugs\n",
    "\n",
    "steroid_players_df = get_file('Steroid_players.csv')\n",
    "\n",
    "### create columns - don't actually need them all for this project but...\n",
    "steroid_players_df.columns = 'nameFirst', 'Team','Date announced','Drug', 'Penalty','Position','Response','Ref'\n",
    "### instert namelast column in df\n",
    "steroid_players_df.insert(1, 'nameLast', \"last name\")\n",
    "\n",
    "### Split the names in namefirst and namelast\n",
    "steroid_players_df['nameLast']= steroid_players_df['nameFirst'].str.split().str.get(1)\n",
    "steroid_players_df['nameFirst']= steroid_players_df['nameFirst'].str.split().str.get(0)\n",
    "\n",
    "steroid_players_df.head()\n"
   ]
  },
  {
   "cell_type": "code",
   "execution_count": null,
   "metadata": {
    "collapsed": false
   },
   "outputs": [],
   "source": [
    "###### find playerID for steroid players to locate in master_df \n",
    "\n",
    "steroid_playerID = pd.Series(master_df.loc[master_df['nameLast'].isin(steroid_players_df['nameLast']) \n",
    "                                           & (master_df.nameFirst).isin(steroid_players_df.nameFirst)].playerID.unique())\n",
    "print 'Matched:', steroid_playerID.size, 'in master_df dataframe'  "
   ]
  },
  {
   "cell_type": "code",
   "execution_count": null,
   "metadata": {
    "collapsed": false
   },
   "outputs": [],
   "source": [
    "#### Lookup player convicted of steroid use and mark column steroid as true   \n",
    "master_df.loc[master_df['playerID'].isin(steroid_playerID), 'Steroid'] = True\n",
    "\n",
    "#print master_df\n",
    "\n",
    "### get mean salary for clean , steroid and all\n",
    "Steroid = int(master_df.loc[master_df['Steroid'] == True]['salary'].mean())\n",
    "Clean = int(master_df.loc[master_df['Steroid'] == False]['salary'].mean())\n",
    "all_players = int(master_df['salary'].mean())\n",
    "\n",
    "### insert them into a dict\n",
    "d = ({'Steroid players':Steroid,\n",
    "      'non steroid players':Clean,\n",
    "      'all players':all_players })\n",
    "###instert the dict to a dataframe\n",
    "mean_salary_df = pd.DataFrame(data=d, index = ['Salary'])\n",
    "\n",
    "#print mean_salary_df['Steroid players']\n",
    "#print master_df.loc[master_df['playerID'].isin(steroid_playerID)]\n",
    "\n",
    "#print master_df.loc[master_df['playerID'].isin(steroid_playerID)]\n",
    "print mean_salary_df"
   ]
  },
  {
   "cell_type": "code",
   "execution_count": null,
   "metadata": {
    "collapsed": false
   },
   "outputs": [],
   "source": [
    "#### print the data as \n",
    "%pylab inline\n",
    "mean_salary_df.plot(kind = 'bar', title ='Mean salary', grid = True,  fontsize = 'small')"
   ]
  },
  {
   "cell_type": "markdown",
   "metadata": {},
   "source": [
    "Mean salary for players:\n",
    "\n",
    "We can see from the bar chart that steroid player made about 1,37 million USD more per year in 1990 - 2014. But how has the salaries developed over time? For that we need to plot the salaries one a line chart.\n"
   ]
  },
  {
   "cell_type": "code",
   "execution_count": null,
   "metadata": {
    "collapsed": false
   },
   "outputs": [],
   "source": [
    "\n",
    "steroid_salary = []\n",
    "clean_salary = []\n",
    "#mean_hits = []\n",
    "years = range(1990, 2015)\n",
    "for year in years:\n",
    "    steroid_salary.append(master_df.loc[(master_df['yearID'] == year) & (master_df['Steroid']==True)]['salary'].mean())\n",
    "    clean_salary.append(master_df.loc[(master_df['yearID'] == year) & (master_df['Steroid']==False)]['salary'].mean())\n",
    "    #mean_hits.append(master_df.loc[master_df['yearID'] == year]['salary'].mean())\n",
    "     \n",
    "\n",
    "\n",
    "salary_per_year_df = pd.DataFrame ({ 'Steroid mean per year': steroid_salary, 'Clean mean per year': clean_salary}, index = years )\n",
    "salary_per_year_df.plot()\n",
    "\n",
    "#print int(salary_per_year_df['Clean mean per year'].mean())\n",
    "#print int(master_df.loc[master_df['Steroid']==False]['salary'].mean())"
   ]
  },
  {
   "cell_type": "markdown",
   "metadata": {},
   "source": [
    "From 1990 until 1997 steroid player actually made less than clean players. But something happend closer to 2000 and the avg salary for player convicted of steroid abuse skyrocketed compared to clean players. We don't know why that is because we don't know how long the individual convicted players have taken their banned substance. Therefore we can't say for certain if the substance was used to improve or to slow down a potential decline - because of age and/or injury.  \n",
    "\n",
    "So what affects a players salary? How does the leauge determine a players worth? To begin answering that question I've looked at how hits affect the mean salary in the leauge. \n",
    "Therefore I've excluded pitchers from salary and hit statistics from here on out. (In the NL pitchers also bat, but for simplicitys sake I've excluded both )\n",
    "\n"
   ]
  },
  {
   "cell_type": "code",
   "execution_count": null,
   "metadata": {
    "collapsed": false
   },
   "outputs": [],
   "source": [
    "#### merge master_df on fielding_df and batting_df.\n",
    "if 'POS' not in master_df.columns:\n",
    "    master_df = master_df.merge(fielding_df, on = ['yearID','playerID'], how = 'inner')\n",
    "    master_df = master_df.merge(batting_df, on = ['yearID','playerID'], how = 'inner')\n",
    "\n"
   ]
  },
  {
   "cell_type": "markdown",
   "metadata": {},
   "source": [
    "MLB players salaries are based on the regular season only. During the postseason there is a revenueshare between the players. Therefore I've chosen to only include regular season statistics."
   ]
  },
  {
   "cell_type": "code",
   "execution_count": null,
   "metadata": {
    "collapsed": false
   },
   "outputs": [],
   "source": [
    "### Remove pitchers and aggregate the relevant years to YoY statistics\n",
    "def get_mean_per_year(data, lookup):\n",
    "    mean_ls = []\n",
    "    for year in years:\n",
    "        mean_ls.append(int(data.loc[(data['POS'] != 'P') & (data['yearID'] == year)][lookup].mean()))\n",
    "    return pd.Series(mean_ls, index = years)\n",
    "\n",
    "non_pitchers_salary = get_mean_per_year(master_df, 'salary')\n",
    "non_pitchers_hits = get_mean_per_year(master_df, 'H')\n",
    "\n",
    "\n",
    "salary_hit_df = pd.DataFrame({'Salary' : non_pitchers_salary, 'Hits' : non_pitchers_hits}, index = [years])"
   ]
  },
  {
   "cell_type": "code",
   "execution_count": null,
   "metadata": {
    "collapsed": false
   },
   "outputs": [],
   "source": [
    "%pylab inline\n",
    "#### create figure to hold two subplots\n",
    "fig = plt.figure(figsize = [12,8])\n",
    "\n",
    "### add salary - hits per year scatterplot\n",
    "ax = fig.add_subplot(2,2,3)\n",
    "ax.scatter(salary_hit_df['Salary'], salary_hit_df['Hits'])\n",
    "ticks = ax.set_xticks([500000, 2500000, 4500000]) \n",
    "labels = ax.set_xticklabels([500, 2500,4500],rotation=30, fontsize = 'small')\n",
    "ax.set_title ('Mean salary compared to mean hits per year')\n",
    "\n",
    "### add mean hits per year lineplot\n",
    "ax1 = fig.add_subplot(2,2,1)\n",
    "ax1.plot(salary_hit_df['Hits'])\n",
    "ticks = ax1.set_yticks([50,55,60,65,70,75]) \n",
    "ax1.set_title ('Mean hits per year')\n",
    "\n",
    "ax2 = fig.add_subplot(2,2,2)\n",
    "ax2.plot(salary_hit_df['Salary'])\n",
    "#ticks = ax1.set_yticks([50,55,60,65,70,75]) \n",
    "ax2.set_title ('Mean salary per year')\n",
    "\n",
    "print 'The correlation between salary and hits for none-pitchers is:', non_pitchers_hits.corr(non_pitchers_salary)\n",
    "#print non_pitchers_hits.std(ddof=0)\n",
    "#print non_pitchers_salary.std(ddof=0)"
   ]
  },
  {
   "cell_type": "markdown",
   "metadata": {},
   "source": [
    "Looking at the scatter chart it looks like there is moderate link between a players salary and hits (Corr = 0.44). Furthermore, looking at the mean hits per year there was a drastic decline in 1993-1995 while the mean salary was roughly stayed the same. After 1998 salaries and hits started to increase before hits reached a peak of 75 in 2008 and from there the mean salary and hits started deviating until today.\n",
    "\n",
    "Obviously this exploration of salaries isn't definitive. I haven't taken pitchers stats or salaries into account - if the pitchers improve hitting becomes more difficult. Neither have I looked at how defensive play influences a players salary. The only conclusing we can draw from this exploration of salaries & hits in the MLB is that there is a weak link between them but unsuprinsingly several factor determine a players worth in Baseball.  "
   ]
  },
  {
   "cell_type": "code",
   "execution_count": null,
   "metadata": {
    "collapsed": false
   },
   "outputs": [],
   "source": [
    "steroid_mean_hits = master_df.loc[(master_df['POS'] != 'P') & (master_df['Steroid'] == True)]['H']\n",
    "clean_mean_hits = master_df.loc[(master_df['POS'] != 'P') & (master_df['Steroid'] == False)]['H'].mean()\n",
    "\n",
    "master_df.loc[(master_df['POS'] != 'P') & (master_df['Steroid'] == True)]\n",
    "#print clean_mean_hits\n"
   ]
  },
  {
   "cell_type": "raw",
   "metadata": {},
   "source": []
  }
 ],
 "metadata": {
  "anaconda-cloud": {},
  "kernelspec": {
   "display_name": "Python [Root]",
   "language": "python",
   "name": "Python [Root]"
  },
  "language_info": {
   "codemirror_mode": {
    "name": "ipython",
    "version": 2
   },
   "file_extension": ".py",
   "mimetype": "text/x-python",
   "name": "python",
   "nbconvert_exporter": "python",
   "pygments_lexer": "ipython2",
   "version": "2.7.12"
  }
 },
 "nbformat": 4,
 "nbformat_minor": 0
}
