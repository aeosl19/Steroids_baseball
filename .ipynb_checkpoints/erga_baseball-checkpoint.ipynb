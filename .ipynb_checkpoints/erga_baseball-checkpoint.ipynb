{
 "cells": [
  {
   "cell_type": "markdown",
   "metadata": {},
   "source": [
    "# Steroids in baseball:\n",
    "\n",
    "Since the 90s baseball has - as any other sport - had its issues with steroids. If we disregard the ethics of taking a unnatural perfomance enhancer and only consider the possible danger both to the players health and risks of beeing caught - why would a player take a banned substance?\n",
    "\n",
    "Obviously a player would take a banned substance in the hope of prolonging a career or improving enough to make it to - and stay - in the MLB. A way to measure how good a player is to measure his earnings. Therefore the question of taking a banned substance boils down to a players worth, will it improve the players worth? So how can we do that? There are several factor contributing to a players worth but if we exclude pitchers, hits are probably by far the most important metric. So, to begin answering the question of why steroids I've choosen to look at the following questions:\n",
    "\n",
    "- What is the mean income for an mlb player from 1990 until end of 2014 compared to players caught taking steroids \n",
    "- Except pitchers, hits are the biggest factor in determening a players salary. But what is the relationship between salaries and hits? Is there a strong link?."
   ]
  },
  {
   "cell_type": "code",
   "execution_count": 2,
   "metadata": {},
   "outputs": [],
   "source": [
    "import matplotlib.pyplot as plt\n",
    "import numpy as np\n",
    "import pandas as pd\n",
    "import math\n",
    "import seaborn as sns"
   ]
  },
  {
   "cell_type": "code",
   "execution_count": 3,
   "metadata": {},
   "outputs": [],
   "source": [
    "\n",
    "\n",
    "#Import the csv files needed and return the DataFrame\n",
    "def get_file (filename):\n",
    "    the_file = pd.read_csv(filename)\n",
    "    return the_file\n",
    "\n",
    "master_df = get_file('Master.csv')\n",
    "salaries_df = get_file('Salaries.csv')\n",
    "batting_df = get_file('Batting.csv')\n",
    "fielding_df = get_file('Fielding.csv')\n",
    "\n",
    "\n",
    "\n",
    "# clean the DataFrames - only the columns we want\n",
    "master_df = master_df[['playerID','nameFirst','nameLast','retroID','bbrefID']]\n",
    "salaries_df = salaries_df[['yearID', 'playerID', 'salary']]\n",
    "fielding_df = fielding_df[['playerID', 'yearID', 'POS']]\n",
    "\n",
    "#### add column indicating if player has been convicted of steroid use\n",
    "master_df.insert(5, 'Steroid', False)\n",
    "\n",
    "\n"
   ]
  },
  {
   "cell_type": "code",
   "execution_count": 4,
   "metadata": {},
   "outputs": [],
   "source": [
    "#### focus on relevant years 1990 - 2014\n",
    "def clean_and_remove (data):\n",
    "    years = range(1990, 2015)\n",
    "    return data.loc[(data['yearID'].isin(years))]\n",
    "\n",
    "#master_df = clean_and_remove(master_df)\n",
    "fielding_df = clean_and_remove(fielding_df)\n",
    "salaries_df = clean_and_remove(salaries_df)\n",
    "batting_df = clean_and_remove(batting_df)\n",
    "\n"
   ]
  },
  {
   "cell_type": "code",
   "execution_count": 5,
   "metadata": {},
   "outputs": [
    {
     "name": "stdout",
     "output_type": "stream",
     "text": [
      "<class 'pandas.core.frame.DataFrame'>\n",
      "Int64Index: 42441 entries, 109460 to 167937\n",
      "Data columns (total 3 columns):\n",
      "playerID    42441 non-null object\n",
      "yearID      42441 non-null int64\n",
      "POS         42441 non-null object\n",
      "dtypes: int64(1), object(2)\n",
      "memory usage: 1.3+ MB\n"
     ]
    }
   ],
   "source": [
    "####remove pitchers from fielding    \n",
    "fielding_df = fielding_df.loc[fielding_df['POS'] != 'P']\n",
    "fielding_df.info()"
   ]
  },
  {
   "cell_type": "code",
   "execution_count": 6,
   "metadata": {},
   "outputs": [
    {
     "data": {
      "text/html": [
       "<div>\n",
       "<style scoped>\n",
       "    .dataframe tbody tr th:only-of-type {\n",
       "        vertical-align: middle;\n",
       "    }\n",
       "\n",
       "    .dataframe tbody tr th {\n",
       "        vertical-align: top;\n",
       "    }\n",
       "\n",
       "    .dataframe thead th {\n",
       "        text-align: right;\n",
       "    }\n",
       "</style>\n",
       "<table border=\"1\" class=\"dataframe\">\n",
       "  <thead>\n",
       "    <tr style=\"text-align: right;\">\n",
       "      <th></th>\n",
       "      <th>playerID</th>\n",
       "      <th>nameFirst</th>\n",
       "      <th>nameLast</th>\n",
       "      <th>retroID</th>\n",
       "      <th>bbrefID</th>\n",
       "      <th>Steroid</th>\n",
       "      <th>yearID</th>\n",
       "      <th>POS</th>\n",
       "    </tr>\n",
       "  </thead>\n",
       "  <tbody>\n",
       "    <tr>\n",
       "      <th>0</th>\n",
       "      <td>abadan01</td>\n",
       "      <td>Andy</td>\n",
       "      <td>Abad</td>\n",
       "      <td>abada001</td>\n",
       "      <td>abadan01</td>\n",
       "      <td>False</td>\n",
       "      <td>2001</td>\n",
       "      <td>1B</td>\n",
       "    </tr>\n",
       "    <tr>\n",
       "      <th>1</th>\n",
       "      <td>abadan01</td>\n",
       "      <td>Andy</td>\n",
       "      <td>Abad</td>\n",
       "      <td>abada001</td>\n",
       "      <td>abadan01</td>\n",
       "      <td>False</td>\n",
       "      <td>2003</td>\n",
       "      <td>1B</td>\n",
       "    </tr>\n",
       "    <tr>\n",
       "      <th>2</th>\n",
       "      <td>abadan01</td>\n",
       "      <td>Andy</td>\n",
       "      <td>Abad</td>\n",
       "      <td>abada001</td>\n",
       "      <td>abadan01</td>\n",
       "      <td>False</td>\n",
       "      <td>2003</td>\n",
       "      <td>OF</td>\n",
       "    </tr>\n",
       "    <tr>\n",
       "      <th>3</th>\n",
       "      <td>abadan01</td>\n",
       "      <td>Andy</td>\n",
       "      <td>Abad</td>\n",
       "      <td>abada001</td>\n",
       "      <td>abadan01</td>\n",
       "      <td>False</td>\n",
       "      <td>2003</td>\n",
       "      <td>RF</td>\n",
       "    </tr>\n",
       "    <tr>\n",
       "      <th>4</th>\n",
       "      <td>abbotje01</td>\n",
       "      <td>Jeff</td>\n",
       "      <td>Abbott</td>\n",
       "      <td>abboj002</td>\n",
       "      <td>abbotje01</td>\n",
       "      <td>False</td>\n",
       "      <td>1997</td>\n",
       "      <td>CF</td>\n",
       "    </tr>\n",
       "  </tbody>\n",
       "</table>\n",
       "</div>"
      ],
      "text/plain": [
       "    playerID nameFirst nameLast   retroID    bbrefID  Steroid  yearID POS\n",
       "0   abadan01      Andy     Abad  abada001   abadan01    False    2001  1B\n",
       "1   abadan01      Andy     Abad  abada001   abadan01    False    2003  1B\n",
       "2   abadan01      Andy     Abad  abada001   abadan01    False    2003  OF\n",
       "3   abadan01      Andy     Abad  abada001   abadan01    False    2003  RF\n",
       "4  abbotje01      Jeff   Abbott  abboj002  abbotje01    False    1997  CF"
      ]
     },
     "execution_count": 6,
     "metadata": {},
     "output_type": "execute_result"
    }
   ],
   "source": [
    "#### merge salary and master DF - if column is already in master_df - it has been already done. \n",
    "if 'POS' not in master_df.columns:\n",
    "    master_df = master_df.merge(fielding_df, on = 'playerID', how = 'inner')\n",
    "master_df.head()\n"
   ]
  },
  {
   "cell_type": "code",
   "execution_count": 7,
   "metadata": {},
   "outputs": [
    {
     "name": "stdout",
     "output_type": "stream",
     "text": [
      "<class 'pandas.core.frame.DataFrame'>\n",
      "Int64Index: 31953 entries, 0 to 31952\n",
      "Data columns (total 9 columns):\n",
      "playerID     31953 non-null object\n",
      "nameFirst    31953 non-null object\n",
      "nameLast     31953 non-null object\n",
      "retroID      31953 non-null object\n",
      "bbrefID      31953 non-null object\n",
      "Steroid      31953 non-null bool\n",
      "yearID       31953 non-null int64\n",
      "POS          31953 non-null object\n",
      "salary       31953 non-null int64\n",
      "dtypes: bool(1), int64(2), object(6)\n",
      "memory usage: 2.2+ MB\n"
     ]
    }
   ],
   "source": [
    "if 'salary' not in master_df.columns:\n",
    "    master_df = master_df.merge(salaries_df, on = ['playerID', 'yearID' ], how = 'inner')\n",
    "master_df.info()"
   ]
  },
  {
   "cell_type": "code",
   "execution_count": 8,
   "metadata": {},
   "outputs": [],
   "source": [
    "if 'H' not in master_df.columns:\n",
    "    master_df = master_df.merge(batting_df, on = ['playerID', 'yearID' ], how = 'inner')"
   ]
  },
  {
   "cell_type": "code",
   "execution_count": 9,
   "metadata": {},
   "outputs": [],
   "source": [
    "#Import the player convicted of using steroids - source wikipedia \n",
    "##https://en.wikipedia.org/wiki/List_of_Major_League_Baseball_players_suspended_for_performance-enhancing_drugs\n",
    "\n",
    "steroid_players_df = get_file('Steroid_players.csv')\n",
    "\n",
    "### create columns - don't actually need them all for this project but...\n",
    "steroid_players_df.columns = 'nameFirst', 'Team','Date announced','Drug', 'Penalty','Position','Response','Ref'\n",
    "### instert namelast column in df\n",
    "steroid_players_df.insert(1, 'nameLast', \"last name\")\n",
    "\n",
    "### Split the names in namefirst and namelast\n",
    "steroid_players_df['nameLast']= steroid_players_df['nameFirst'].str.split().str.get(-1)\n",
    "steroid_players_df['nameFirst']= steroid_players_df['nameFirst'].str.split().str.get(0)\n"
   ]
  },
  {
   "cell_type": "markdown",
   "metadata": {},
   "source": [
    "From printing out steroid_players_df.info() we notice that several players have incomplete fields. But we only care about the names. For this exploration we could delete the other columns but I want to keep them just in case I'm coming back to this exploration at a later time "
   ]
  },
  {
   "cell_type": "code",
   "execution_count": 10,
   "metadata": {
    "scrolled": true
   },
   "outputs": [
    {
     "name": "stdout",
     "output_type": "stream",
     "text": [
      "Matched: 66 in master_df dataframe\n"
     ]
    }
   ],
   "source": [
    "###### find playerID for steroid players to locate in master_df \n",
    "\n",
    "steroid_playerID = pd.Series(master_df.loc[master_df['nameLast'].isin(steroid_players_df['nameLast']) \n",
    "                                           & (master_df.nameFirst).isin(steroid_players_df.nameFirst)].playerID.unique())\n",
    "print ('Matched:', steroid_playerID.size, 'in master_df dataframe')  \n",
    "\n"
   ]
  },
  {
   "cell_type": "markdown",
   "metadata": {},
   "source": [
    "We have 128 entires in the steroid_players_df but only matched 66 players to master_df. Why is that? The biggest factor is that we have deicided to exclude pitchers, but we also have different spellings of names. I choose not to go in and manually overwrite the names to match up with master_df "
   ]
  },
  {
   "cell_type": "code",
   "execution_count": 11,
   "metadata": {},
   "outputs": [
    {
     "name": "stdout",
     "output_type": "stream",
     "text": [
      "        Steroid players  non steroid players  all players\n",
      "Salary          3245201              1873830      1916319\n"
     ]
    }
   ],
   "source": [
    "#### Lookup player convicted of steroid use and mark column steroid as true   \n",
    "master_df.loc[master_df['playerID'].isin(steroid_playerID), 'Steroid'] = True\n",
    "\n",
    "#print master_df\n",
    "\n",
    "### get mean salary for clean , steroid and all\n",
    "Steroid = int(master_df.loc[master_df['Steroid'] == True]['salary'].mean())\n",
    "Clean = int(master_df.loc[master_df['Steroid'] == False]['salary'].mean())\n",
    "all_players = int(master_df['salary'].mean())\n",
    "\n",
    "### insert them into a dict\n",
    "d = ({'Steroid players':Steroid,\n",
    "      'non steroid players':Clean,\n",
    "      'all players':all_players })\n",
    "###instert the dict to a dataframe\n",
    "mean_salary_df = pd.DataFrame(data=d, index = ['Salary'])\n",
    "\n",
    "print (mean_salary_df)"
   ]
  },
  {
   "cell_type": "code",
   "execution_count": 14,
   "metadata": {},
   "outputs": [
    {
     "name": "stdout",
     "output_type": "stream",
     "text": [
      "Populating the interactive namespace from numpy and matplotlib\n"
     ]
    },
    {
     "data": {
      "text/plain": [
       "<matplotlib.axes._subplots.AxesSubplot at 0x11f9c57b8>"
      ]
     },
     "execution_count": 14,
     "metadata": {},
     "output_type": "execute_result"
    },
    {
     "data": {
      "image/png": "[encoded data removed]",
      "text/plain": [
       "<Figure size 432x288 with 1 Axes>"
      ]
     },
     "metadata": {},
     "output_type": "display_data"
    }
   ],
   "source": [
    "#### print the data as bar\n",
    "%pylab inline\n",
    "plt.style.use('fivethirtyeight')\n",
    "mean_salary_df.plot(kind = 'bar', title ='Mean salary', grid = True,  fontsize = 'small')"
   ]
  },
  {
   "cell_type": "markdown",
   "metadata": {},
   "source": [
    "Mean salary for players:\n",
    "\n",
    "We can see from the bar chart that steroid player made about 1,3 million USD more per year in 1990 - 2014. But how has the salaries developed over time? For that we need to plot the salaries one a line chart.\n"
   ]
  },
  {
   "cell_type": "code",
   "execution_count": 15,
   "metadata": {},
   "outputs": [
    {
     "data": {
      "text/plain": [
       "<matplotlib.axes._subplots.AxesSubplot at 0x1212b3358>"
      ]
     },
     "execution_count": 15,
     "metadata": {},
     "output_type": "execute_result"
    },
    {
     "data": {
      "image/png": "[encoded data removed]",
      "text/plain": [
       "<Figure size 432x288 with 1 Axes>"
      ]
     },
     "metadata": {},
     "output_type": "display_data"
    }
   ],
   "source": [
    "\n",
    "steroid_salary = []\n",
    "clean_salary = []\n",
    "\n",
    "years = range(1990, 2015)\n",
    "for year in years:\n",
    "    steroid_salary.append(master_df.loc[(master_df['yearID'] == year) & (master_df['Steroid']==True)]['salary'].mean())\n",
    "    clean_salary.append(master_df.loc[(master_df['yearID'] == year) & (master_df['Steroid']==False)]['salary'].mean())\n",
    "    \n",
    "\n",
    "salary_per_year_df = pd.DataFrame ({ 'Steroid mean per year': steroid_salary, 'Clean mean per year': clean_salary}, index = years )\n",
    "salary_per_year_df.plot()\n",
    "\n",
    "\n",
    "#print int(salary_per_year_df['Clean mean per year'].mean())\n",
    "#print int(master_df.loc[master_df['Steroid']==False]['salary'].mean())"
   ]
  },
  {
   "cell_type": "markdown",
   "metadata": {},
   "source": [
    "From 1990 until 1997 steroid player actually made less than clean players. But something happend closer to 2000 and the avg salary for player convicted of steroid abuse skyrocketed compared to clean players.  Don't know why that is because we don't know how long the individual players have took banned substances. Therefore we can't say for certain if the substance was used to improve or to slow down a potential decline - because of age and/or injury.  \n",
    "\n",
    "But, unfortunately even though the salaries have converged in later years, it still looks like steroid abuse affects a position players abillity to increase their earning potential.\n",
    "\n",
    "So what affects a players salary? How does the leauge determine a players worth? To begin answering that question I've looked at how hits affect the mean salary in the leauge. \n"
   ]
  },
  {
   "cell_type": "markdown",
   "metadata": {},
   "source": [
    "MLB players salaries are based on the regular season only. During the postseason there is a revenueshare between the players. Therefore I've chosen to only include regular season statistics."
   ]
  },
  {
   "cell_type": "code",
   "execution_count": 40,
   "metadata": {},
   "outputs": [],
   "source": [
    "### Remove pitchers and aggregate the relevant years to YoY statistics\n",
    "years = range(1990, 2015)\n",
    "def mean_per_year(data_df, lookup):\n",
    "    mean = []\n",
    "    for year in years:\n",
    "        mean.append(data_df.loc[data_df['yearID'] == year, lookup].mean())\n",
    "    return mean  \n",
    "                    \n",
    "hits_per_year = pd.Series(mean_per_year(master_df, 'H'), index = years)\n",
    "salary_per_year = pd.Series(mean_per_year(master_df, 'salary'), index = years)\n",
    "#print salary_per_year.head()\n",
    "\n",
    "\n",
    "salary_hit_df = pd.DataFrame({'Salary' : salary_per_year, 'Hits' : hits_per_year}, index = years)"
   ]
  },
  {
   "cell_type": "code",
   "execution_count": 48,
   "metadata": {},
   "outputs": [
    {
     "name": "stdout",
     "output_type": "stream",
     "text": [
      "Populating the interactive namespace from numpy and matplotlib\n",
      "Correlation between salary and hits for none-pitchers is: 0.44628522936249027\n"
     ]
    },
    {
     "data": {
      "image/png": "[encoded data removed]",
      "text/plain": [
       "<Figure size 864x576 with 4 Axes>"
      ]
     },
     "metadata": {
      "needs_background": "light"
     },
     "output_type": "display_data"
    }
   ],
   "source": [
    "%pylab inline\n",
    "#### create figure to hold two subplots\n",
    "fig = plt.figure(figsize = [12,8])\n",
    "\n",
    "### add salary - hits per year scatterplot\n",
    "ax = fig.add_subplot(2,2,1)\n",
    "ax.scatter(salary_hit_df['Salary'], salary_hit_df['Hits'])\n",
    "ticks = ax.set_xticks([500000, 2500000, 4500000]) \n",
    "labels = ax.set_xticklabels([500, 2500,4500],rotation=30, fontsize = 'small')\n",
    "ax.set_title ('Mean salary compared to mean hits per year')\n",
    "\n",
    "### add mean hits per year lineplot\n",
    "ax1 = fig.add_subplot(2,2,2)\n",
    "ax1.plot(salary_hit_df['Hits'])\n",
    "ticks = ax1.set_yticks([50,55,60,65,70,75]) \n",
    "ax1.set_title ('Mean hits per year')\n",
    "\n",
    "ax2 = fig.add_subplot(2,2,3)\n",
    "ax2.plot(salary_hit_df['Salary'])\n",
    "ax2.set_title ('Mean salary per year')\n",
    "\n",
    "\n",
    "\n",
    "ax3 = fig.add_subplot(2,2,4)\n",
    "ax3.hist(master_df['salary'], bins =20)\n",
    "ax3.set_title ('Histogram salary per year')\n",
    "\n",
    "\n",
    "print ('Correlation between salary and hits for none-pitchers is:', salary_hit_df['Hits'].corr(salary_hit_df['Salary']))\n",
    "#print non_pitchers_hits.std(ddof=0)\n",
    "#print non_pitchers_salary.std(ddof=0)"
   ]
  },
  {
   "cell_type": "markdown",
   "metadata": {},
   "source": [
    "Looking at the scatter chart it looks like there is moderate link between a players salary and hits (Corr = 0.44). Furthermore, looking at the mean hits per year there was a drastic decline in 1993-1995 while the mean salary roughly stayed the same. After 1998 salaries and hits started to increase before hits reached a peak of 75 in 2008 and from there the mean salary and hits started deviating until today.\n",
    "\n",
    "Obviously this exploration isn't definitive. I haven't taken pitchers stats or salaries into account - if the pitchers improve hitting becomes more difficult and vice versa. Neither have I looked at how defensive play influences a players salary. The only conclusing we can draw from this exploration of salaries & hits in the MLB is that there is a weak link between them but unsuprinsingly several factor determine a players worth in Baseball. \n",
    "\n",
    "Going back to the question posed - is there anything to gain by using steroids in baseball? Well unfortunatly we saw that position players convited for using steroids abuse earned on average 3,251.123 while clean players earned    1,878.246. That is a pretty big gap in earnings per year. \n",
    "\n",
    "But if we try and look at it from another angle. Say your an average MLB player in 2014. Earning:"
   ]
  },
  {
   "cell_type": "code",
   "execution_count": 52,
   "metadata": {},
   "outputs": [
    {
     "name": "stdout",
     "output_type": "stream",
     "text": [
      "Average salary for a clean player in 2014: 3508579\n"
     ]
    }
   ],
   "source": [
    "clean_2014_sal = int (master_df.loc[(master_df['yearID']== 2014) & (master_df['Steroid'] == False)]['salary'].mean()) \n",
    "print ('Average salary for a clean player in 2014:', clean_2014_sal)\n"
   ]
  },
  {
   "cell_type": "markdown",
   "metadata": {},
   "source": [
    "While an average player on steroids earn:"
   ]
  },
  {
   "cell_type": "code",
   "execution_count": 54,
   "metadata": {},
   "outputs": [
    {
     "name": "stdout",
     "output_type": "stream",
     "text": [
      "Average salary for a juiced player in 2014: 4261927\n"
     ]
    }
   ],
   "source": [
    "steroid_2014_sal = int(master_df.loc[(master_df['yearID']== 2014) & (master_df['Steroid'] == True)]['salary'].mean())\n",
    "print ('Average salary for a juiced player in 2014:', steroid_2014_sal)"
   ]
  },
  {
   "cell_type": "markdown",
   "metadata": {},
   "source": [
    "How much do the they earn per hit? Is there a difference in earnings per hit between the two groups of players?"
   ]
  },
  {
   "cell_type": "code",
   "execution_count": 59,
   "metadata": {},
   "outputs": [
    {
     "name": "stdout",
     "output_type": "stream",
     "text": [
      "On average, clean players earned: 56861 While players on steroid earned 49649 per hit in 2014\n"
     ]
    }
   ],
   "source": [
    "def pay_per_hit(data, year):\n",
    "    pay =  data.loc[data['yearID'] == year]['salary'].mean()\n",
    "    hit =  data.loc[data['yearID'] == year]['H'].mean()\n",
    "    return int((pay/hit))\n",
    "    \n",
    "S_earnings_per_hit = pay_per_hit(master_df.loc[master_df['Steroid'] == True], 2014)\n",
    "C_earnings_per_hit = pay_per_hit(master_df.loc[master_df['Steroid'] == False], 2014)\n",
    "\n",
    "print ('On average, clean players earned:', C_earnings_per_hit, \n",
    "       'While players on steroid earned', S_earnings_per_hit, 'per hit in 2014')\n",
    "    "
   ]
  },
  {
   "attachments": {},
   "cell_type": "markdown",
   "metadata": {},
   "source": [
    "# Conclusion:\n",
    "\n",
    "Like previously stated because of factors not included in this \"analysis\" this is hardly anything more than playing with numbers. But it is a pleasant surprise to see that clean players actually earned more money for their contributions to the team in 2014 than dirty players - if we only look at hits.\n",
    "\n",
    "So to try giving an answer to the original question? Should a player take steroids? The moral answer is no, but we have to acknowledge that in 2014 it looks like a player on steroids earned about USD 780762,- more than clean players. Unfortunately it also looks like a players statistics should improve by taking steroids. And with only a 50 game suspension for first time offenders, potential punishment from MLB is not much of a deterrent. That leaves it almost solely up to health concerns and potential backlash from the fan base to act as deterrents. In later years we have seen improvements in salaries a clean player can expect to earn compared to players using steroids, but I don't know why that is. From this limited exploration I can't answer that question. It could just as well be that more players use steroids and therefore players of limited skills (and therefore limited earning potential) also use steroids, as it could be that MLB substance abuse policies finally are having an effect. \n",
    "\n",
    "To begin answering such questions more data is need, when and for how long the players used steroids. How many players not convicted of steroid use played in the MLB. Such data isn’t available and I suspect will never become available. This leaves us left with more questions than we began. We only know that players convicted of steroid use earned more than clean player, but clean players eared more per hit than, and are left to speculate about reasons why."
   ]
  },
  {
   "cell_type": "code",
   "execution_count": 58,
   "metadata": {},
   "outputs": [
    {
     "name": "stdout",
     "output_type": "stream",
     "text": [
      "Null hypthesis - No significant change in salary with steroids\n",
      "Alt hypthesis - significant positive change in salary with steroids \n",
      "Mu = 1964213.6750697014\n",
      "Sample Mu = 2835143.517738359\n",
      "Degrees of freeedom = 24\n",
      "Sample standard deviation = 1857701.7427729596\n",
      "Standard Error Margin = 371540.34855459194\n",
      "Mean difference = 870929.8426686577\n",
      "T statistic = 2.3441056834253584\n"
     ]
    },
    {
     "data": {
      "text/plain": [
       "'\\nprint salary_per_year_df[\\'Steroid mean per year\\'].mean()\\nprint salary_per_year_df[\\'Steroid mean per year\\'].std()\\n\\nmean_diff = salary_per_year_df[\\'Clean mean per year\\'].mean() - salary_per_year_df[\\'Steroid mean per year\\'].mean()\\nprint(\"Mean difference {}\".format(int(mean_diff)))\\n'"
      ]
     },
     "execution_count": 58,
     "metadata": {},
     "output_type": "execute_result"
    }
   ],
   "source": [
    "pop_hits_mean = salary_hit_df['Hits'].std()\n",
    "pop_salary_mean = salary_hit_df['Salary'].std()\n",
    "\n",
    "print ('Null hypthesis - No significant change in salary with steroids')\n",
    "print ('Alt hypthesis - significant positive change in salary with steroids ')\n",
    "\n",
    "Mu = salary_per_year_df['Clean mean per year'].mean()\n",
    "print ('Mu = {}'.format(Mu))\n",
    "\n",
    "sample_Mu = salary_per_year_df['Steroid mean per year'].mean()\n",
    "print ('Sample Mu = {}'.format(sample_Mu))\n",
    "\n",
    "df =  len(salary_per_year_df['Steroid mean per year']) -1\n",
    "print ('Degrees of freeedom = {}'.format(df))\n",
    "\n",
    "t_critical = 1.711\n",
    "\n",
    "Sd = salary_per_year_df['Steroid mean per year'].std()\n",
    "print ('Sample standard deviation = {}'.format(Sd))\n",
    "\n",
    "SEM = Sd/math.sqrt(25)\n",
    "print ('Standard Error Margin = {}'.format(SEM))\n",
    "\n",
    "Mean_diff = sample_Mu - Mu\n",
    "print ('Mean difference = {}'.format(Mean_diff))\n",
    "\n",
    "t_statistic = Mean_diff / SEM\n",
    "print ('T statistic = {}'.format(t_statistic))\n",
    "\n",
    "\n",
    "#print salary_per_year_df['Clean mean per year'].std(ddof=0)\n",
    "'''\n",
    "print salary_per_year_df['Steroid mean per year'].mean()\n",
    "print salary_per_year_df['Steroid mean per year'].std()\n",
    "\n",
    "mean_diff = salary_per_year_df['Clean mean per year'].mean() - salary_per_year_df['Steroid mean per year'].mean()\n",
    "print(\"Mean difference {}\".format(int(mean_diff)))\n",
    "'''"
   ]
  },
  {
   "cell_type": "code",
   "execution_count": null,
   "metadata": {},
   "outputs": [],
   "source": []
  },
  {
   "cell_type": "code",
   "execution_count": null,
   "metadata": {},
   "outputs": [],
   "source": []
  }
 ],
 "metadata": {
  "anaconda-cloud": {},
  "kernelspec": {
   "display_name": "Python 3",
   "language": "python",
   "name": "python3"
  },
  "language_info": {
   "codemirror_mode": {
    "name": "ipython",
    "version": 3
   },
   "file_extension": ".py",
   "mimetype": "text/x-python",
   "name": "python",
   "nbconvert_exporter": "python",
   "pygments_lexer": "ipython3",
   "version": "3.7.3"
  }
 },
 "nbformat": 4,
 "nbformat_minor": 1
}
